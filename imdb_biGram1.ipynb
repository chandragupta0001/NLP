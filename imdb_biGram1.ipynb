{
  "nbformat": 4,
  "nbformat_minor": 0,
  "metadata": {
    "colab": {
      "name": "Untitled3.ipynb",
      "provenance": [],
      "authorship_tag": "ABX9TyPighgAQSvwR+WR9hFZ2SRB"
    },
    "kernelspec": {
      "name": "python3",
      "display_name": "Python 3"
    }
  },
  "cells": [
    {
      "cell_type": "code",
      "metadata": {
        "id": "rTdyIpMlmedL"
      },
      "source": [
        "import string\n",
        "import re\n",
        "from os import listdir\n",
        "from collections import Counter\n",
        "from nltk.corpus import stopwords\n",
        "import nltk"
      ],
      "execution_count": 1,
      "outputs": []
    },
    {
      "cell_type": "code",
      "metadata": {
        "id": "qJS4pk4rmtes",
        "outputId": "8b298075-13f2-4a82-fbd5-cd4906d2076a",
        "colab": {
          "base_uri": "https://localhost:8080/",
          "height": 68
        }
      },
      "source": [
        "nltk.download('stopwords')"
      ],
      "execution_count": 2,
      "outputs": [
        {
          "output_type": "stream",
          "text": [
            "[nltk_data] Downloading package stopwords to /root/nltk_data...\n",
            "[nltk_data]   Package stopwords is already up-to-date!\n"
          ],
          "name": "stdout"
        },
        {
          "output_type": "execute_result",
          "data": {
            "text/plain": [
              "True"
            ]
          },
          "metadata": {
            "tags": []
          },
          "execution_count": 2
        }
      ]
    },
    {
      "cell_type": "code",
      "metadata": {
        "id": "fdvw4YAPmuZx",
        "outputId": "a1cd9618-9cc9-42bb-c271-7ff430fac5f1",
        "colab": {
          "base_uri": "https://localhost:8080/",
          "height": 34
        }
      },
      "source": [
        "from google.colab import drive\n",
        "drive.mount('/gdrive',force_remount=True)"
      ],
      "execution_count": 3,
      "outputs": [
        {
          "output_type": "stream",
          "text": [
            "Mounted at /gdrive\n"
          ],
          "name": "stdout"
        }
      ]
    },
    {
      "cell_type": "code",
      "metadata": {
        "id": "Jhdrts9IuO65"
      },
      "source": [
        "# load doc and add to vocab\n",
        "def add_doc_to_vocab(filename, vocab):\n",
        "# load doc\n",
        "  doc = load_doc(filename)\n",
        "# clean doc\n",
        "  tokens = clean_doc(doc)\n",
        "# update counts\n",
        "  vocab.update(tokens)"
      ],
      "execution_count": 4,
      "outputs": []
    },
    {
      "cell_type": "code",
      "metadata": {
        "id": "mO4Z38HAuEug"
      },
      "source": [
        "def load_doc(filename):\n",
        "# open the file as read only\n",
        "  file = open(filename, 'r')\n",
        "# read all text\n",
        "  text = file.read()\n",
        "# close the file\n",
        "  file.close()\n",
        "  return text"
      ],
      "execution_count": 5,
      "outputs": []
    },
    {
      "cell_type": "code",
      "metadata": {
        "id": "KAM8ynp-m8QQ"
      },
      "source": [
        "def clean_doc(doc):\n",
        "# split into tokens by white space\n",
        "  tokens = doc.split()\n",
        "# prepare regex for char filtering\n",
        "  re_punc = re.compile('[%s]' % re.escape(string.punctuation))\n",
        "# remove punctuation from each word\n",
        "  tokens = [re_punc.sub('', w) for w in tokens]\n",
        "# remove remaining tokens that are not alphabetic\n",
        "  tokens = [word for word in tokens if word.isalpha()]\n",
        "# filter out stop words\n",
        "  stop_words = set(stopwords.words('english'))\n",
        "  tokens = [w for w in tokens if not w in stop_words]\n",
        "  # filter out short tokens\n",
        "  tokens = [word for word in tokens if len(word) > 1]\n",
        "  # bi grams\n",
        "  bitokens=[]\n",
        "  for i in range(len(tokens)-1):\n",
        "    bitokens.append(tokens[i]+\" \"+tokens[i+1])\n",
        "  return bitokens+tokens"
      ],
      "execution_count": 6,
      "outputs": []
    },
    {
      "cell_type": "code",
      "metadata": {
        "id": "otpU09k3t-m8"
      },
      "source": [
        "# load all docs in a directory\n",
        "def process_docs(directory, vocab):\n",
        "# walk through all files in the folder\n",
        "   for filename in listdir(directory):\n",
        "# skip any reviews in the test set\n",
        "     if filename.startswith('cv9'):\n",
        "       continue\n",
        "# cre ate the full path of the file to open\n",
        "     path = directory + '/' + filename\n",
        "# add doc to vocab\n",
        "     add_doc_to_vocab(path, vocab)"
      ],
      "execution_count": 7,
      "outputs": []
    },
    {
      "cell_type": "code",
      "metadata": {
        "id": "MuJkTW-4tEVN",
        "outputId": "1b2dfe38-bf99-46c5-b97f-056c6b5d90b5",
        "colab": {
          "base_uri": "https://localhost:8080/",
          "height": 71
        }
      },
      "source": [
        "vocab = Counter()\n",
        "# add all docs to vocab\n",
        "process_docs('/gdrive/My Drive/datasets/txt_sentoken/pos', vocab)\n",
        "process_docs('/gdrive/My Drive/datasets/txt_sentoken/neg', vocab)\n",
        "# print the size of the vocab\n",
        "print(len(vocab))\n",
        "# print the top words in the vocab\n",
        "print(vocab.most_common(50))"
      ],
      "execution_count": 8,
      "outputs": [
        {
          "output_type": "stream",
          "text": [
            "526627\n",
            "[('film', 7983), ('one', 4946), ('movie', 4826), ('like', 3201), ('even', 2262), ('good', 2080), ('time', 2041), ('story', 1907), ('films', 1873), ('would', 1844), ('much', 1824), ('also', 1757), ('characters', 1735), ('get', 1724), ('character', 1703), ('two', 1643), ('first', 1588), ('see', 1557), ('way', 1515), ('well', 1511), ('make', 1418), ('really', 1407), ('little', 1351), ('life', 1334), ('plot', 1288), ('people', 1269), ('could', 1248), ('bad', 1248), ('scene', 1241), ('movies', 1238), ('never', 1201), ('best', 1179), ('new', 1140), ('scenes', 1135), ('man', 1131), ('many', 1130), ('doesnt', 1118), ('know', 1092), ('dont', 1086), ('hes', 1024), ('great', 1014), ('another', 992), ('action', 985), ('love', 977), ('us', 967), ('go', 952), ('director', 948), ('end', 946), ('something', 945), ('still', 936)]\n"
          ],
          "name": "stdout"
        }
      ]
    },
    {
      "cell_type": "code",
      "metadata": {
        "id": "R5_zbI-5tHeL",
        "outputId": "a2365f4d-92e2-4617-abf2-52d6965607eb",
        "colab": {
          "base_uri": "https://localhost:8080/",
          "height": 54
        }
      },
      "source": [
        "print(vocab.most_common(200))"
      ],
      "execution_count": 9,
      "outputs": [
        {
          "output_type": "stream",
          "text": [
            "[('film', 7983), ('one', 4946), ('movie', 4826), ('like', 3201), ('even', 2262), ('good', 2080), ('time', 2041), ('story', 1907), ('films', 1873), ('would', 1844), ('much', 1824), ('also', 1757), ('characters', 1735), ('get', 1724), ('character', 1703), ('two', 1643), ('first', 1588), ('see', 1557), ('way', 1515), ('well', 1511), ('make', 1418), ('really', 1407), ('little', 1351), ('life', 1334), ('plot', 1288), ('people', 1269), ('could', 1248), ('bad', 1248), ('scene', 1241), ('movies', 1238), ('never', 1201), ('best', 1179), ('new', 1140), ('scenes', 1135), ('man', 1131), ('many', 1130), ('doesnt', 1118), ('know', 1092), ('dont', 1086), ('hes', 1024), ('great', 1014), ('another', 992), ('action', 985), ('love', 977), ('us', 967), ('go', 952), ('director', 948), ('end', 946), ('something', 945), ('still', 936), ('seems', 930), ('back', 923), ('made', 912), ('theres', 901), ('work', 901), ('makes', 883), ('however', 874), ('years', 867), ('world', 864), ('every', 858), ('big', 854), ('though', 843), ('better', 818), ('enough', 812), ('take', 802), ('seen', 801), ('around', 801), ('performance', 795), ('real', 789), ('role', 784), ('going', 782), ('audience', 781), ('gets', 780), ('isnt', 773), ('think', 773), ('may', 773), ('things', 763), ('actually', 760), ('look', 744), ('last', 741), ('funny', 738), ('comedy', 738), ('almost', 728), ('fact', 723), ('played', 721), ('thing', 718), ('nothing', 713), ('say', 712), ('although', 711), ('right', 710), ('thats', 709), ('since', 699), ('come', 699), ('find', 692), ('script', 685), ('plays', 682), ('long', 681), ('cast', 674), ('john', 667), ('old', 662), ('ever', 661), ('comes', 654), ('young', 648), ('without', 640), ('show', 639), ('actors', 639), ('part', 635), ('least', 613), ('lot', 612), ('takes', 604), ('acting', 603), ('original', 600), ('point', 591), ('away', 588), ('star', 585), ('goes', 584), ('quite', 582), ('course', 572), ('might', 571), ('cant', 571), ('family', 571), ('minutes', 568), ('three', 567), ('must', 566), ('place', 562), ('rather', 562), ('im', 562), ('interesting', 561), ('anything', 557), ('screen', 555), ('effects', 554), ('guy', 554), ('far', 544), ('day', 535), ('yet', 533), ('watch', 526), ('year', 523), ('didnt', 523), ('seem', 523), ('times', 518), ('instead', 512), ('sense', 510), ('fun', 509), ('always', 509), ('picture', 509), ('special', 507), ('home', 505), ('give', 505), ('trying', 504), ('making', 504), ('bit', 500), ('kind', 498), ('job', 494), ('want', 493), ('wife', 492), ('series', 485), ('american', 481), ('becomes', 480), ('along', 476), ('pretty', 476), ('set', 475), ('men', 474), ('together', 473), ('help', 472), ('probably', 470), ('woman', 467), ('become', 467), ('actor', 460), ('hard', 456), ('everything', 456), ('money', 455), ('hollywood', 455), ('given', 451), ('gives', 450), ('dialogue', 448), ('whole', 447), ('sure', 446), ('high', 445), ('black', 443), ('watching', 437), ('wants', 436), ('got', 426), ('death', 425), ('music', 422), ('feel', 421), ('perhaps', 418), ('play', 411), ('moments', 411), ('next', 411), ('especially', 410), ('less', 405), ('done', 405), ('everyone', 404), ('james', 398), ('different', 397), ('city', 396), ('looks', 395), ('sex', 394), ('simply', 392), ('completely', 389)]\n"
          ],
          "name": "stdout"
        }
      ]
    },
    {
      "cell_type": "code",
      "metadata": {
        "id": "iIJvErxSxMOH",
        "outputId": "ba45f839-7936-4815-b41a-9e3d3b380b6b",
        "colab": {
          "base_uri": "https://localhost:8080/",
          "height": 54
        }
      },
      "source": [
        "print(vocab.most_common()[:-50-1:-1])"
      ],
      "execution_count": 10,
      "outputs": [
        {
          "output_type": "stream",
          "text": [
            "[('guncrazy', 1), ('secondclass', 1), ('belch', 1), ('yucked', 1), ('associated see', 1), ('resumes associated', 1), ('blot resumes', 1), ('embarrassment blot', 1), ('life embarrassment', 1), ('otherwise life', 1), ('olds otherwise', 1), ('lawrence year', 1), ('ages murphy', 1), ('flawlessly ages', 1), ('baker flawlessly', 1), ('legend rick', 1), ('makeup legend', 1), ('artistry makeup', 1), ('virtue artistry', 1), ('lifes redeeming', 1), ('protest lifes', 1), ('without protest', 1), ('portrayals without', 1), ('accept portrayals', 1), ('audiences accept', 1), ('projects audiences', 1), ('greenlight projects', 1), ('studios greenlight', 1), ('scripts studios', 1), ('actors eat', 1), ('fault rest', 1), ('demeaning fault', 1), ('caricatures demeaning', 1), ('sets caricatures', 1), ('youths sets', 1), ('sexcrazed youths', 1), ('guncrazy sexcrazed', 1), ('hiphop guncrazy', 1), ('artists hiphop', 1), ('scam artists', 1), ('conniving scam', 1), ('fasttalking conniving', 1), ('presented fasttalking', 1), ('blacks presented', 1), ('tuckers blacks', 1), ('murphy chris', 1), ('actors murphy', 1), ('creeping movies', 1), ('stereotype creeping', 1), ('insidious stereotype', 1)]\n"
          ],
          "name": "stdout"
        }
      ]
    },
    {
      "cell_type": "code",
      "metadata": {
        "id": "mQfduayUtJMT",
        "outputId": "7f959aeb-6b7f-4361-d6a4-36917ee065e8",
        "colab": {
          "base_uri": "https://localhost:8080/",
          "height": 34
        }
      },
      "source": [
        "min_occurane = 2\n",
        "tokens = [k for k,c in vocab.items() if c >= min_occurane]\n",
        "print(len(tokens))"
      ],
      "execution_count": 11,
      "outputs": [
        {
          "output_type": "stream",
          "text": [
            "81474\n"
          ],
          "name": "stdout"
        }
      ]
    },
    {
      "cell_type": "code",
      "metadata": {
        "id": "BH28R5mGs9dd"
      },
      "source": [
        "# save list to file\n",
        "def save_list(lines, filename):\n",
        "# convert lines to a single blob of text\n",
        "  data = '\\n'.join(lines)\n",
        "# open file\n",
        "  file = open(filename, 'w')\n",
        "# write text\n",
        "  file.write(data)\n",
        "# close file\n",
        "  file.close()\n",
        "# save tokens to a vocabulary file\n",
        "save_list(tokens, '/gdrive/My Drive/datasets/txt_sentoken/vocab_bi.txt')"
      ],
      "execution_count": 12,
      "outputs": []
    },
    {
      "cell_type": "code",
      "metadata": {
        "id": "p2vuq3n-s4T6"
      },
      "source": [
        "def doc_to_line(filename, vocab):\n",
        "# load the doc\n",
        "   doc = load_doc(filename)\n",
        "# clean doc\n",
        "   tokens = clean_doc(doc)\n",
        "  #  print(tokens) \n",
        "# filter by vocab\n",
        "   tokens = [w for w in tokens if w in vocab]\n",
        "   \n",
        "   return ' '.join(tokens)"
      ],
      "execution_count": 13,
      "outputs": []
    },
    {
      "cell_type": "code",
      "metadata": {
        "id": "tnOl1wELs0GY"
      },
      "source": [
        "# load all docs in a directory\n",
        "def process_docs(directory, vocab, is_train):\n",
        "  lines = list()\n",
        "# walk through all files in the folder\n",
        "  for filename in listdir(directory):\n",
        "# skip any reviews in the test set\n",
        "    if is_train and filename.startswith('cv9'):\n",
        "      continue\n",
        "    if not is_train and not filename.startswith('cv9'):\n",
        "      continue\n",
        "# create the full path of the file to open\n",
        "    path = directory + '/' + filename\n",
        "# load and clean the doc\n",
        "    line = doc_to_line(path, vocab)\n",
        "    # print(line)\n",
        "# add to list\n",
        "    lines.append(line)\n",
        "  return lines\n",
        "\n",
        "\n",
        "# load and clean a dataset\n",
        "def load_clean_dataset(vocab,is_train):\n",
        "# load documents\n",
        "  neg = process_docs('/gdrive/My Drive/datasets/txt_sentoken/neg', vocab,is_train)\n",
        "  pos = process_docs('/gdrive/My Drive/datasets/txt_sentoken/pos', vocab,is_train)\n",
        "  docs = neg + pos\n",
        "# prepare labels\n",
        "  labels = [0 for _ in range(len(neg))] + [1 for _ in range(len(pos))]\n",
        "  return docs, labels\n",
        "\n",
        "\n",
        "from keras.preprocessing.text import Tokenizer\n",
        "def create_tokenizer(lines):\n",
        "   tokenizer = Tokenizer()\n",
        "   tokenizer.fit_on_texts(lines)\n",
        "   return tokenizer"
      ],
      "execution_count": 14,
      "outputs": []
    },
    {
      "cell_type": "code",
      "metadata": {
        "id": "r8XQ4bCjzhnJ"
      },
      "source": [
        "vocab_filename = '/gdrive/My Drive/datasets/txt_sentoken/vocab_bi.txt'\n",
        "vocab = load_doc(vocab_filename)\n",
        "vocab = set(vocab.split())"
      ],
      "execution_count": 15,
      "outputs": []
    },
    {
      "cell_type": "code",
      "metadata": {
        "id": "ASdt4oCWzlEx",
        "outputId": "941ea584-7d5e-431b-9fae-59257320ec2c",
        "colab": {
          "base_uri": "https://localhost:8080/",
          "height": 34
        }
      },
      "source": [
        "train_docs, ytrain = load_clean_dataset(vocab, True)\n",
        "test_docs, ytest = load_clean_dataset(vocab, False)\n",
        "# create the tokenizer\n",
        "tokenizer = create_tokenizer(train_docs)\n",
        "# encode data\n",
        "Xtrain = tokenizer.texts_to_matrix(train_docs, mode='binary')\n",
        "Xtest = tokenizer.texts_to_matrix(test_docs, mode='binary')\n",
        "print(Xtrain.shape, Xtest.shape)"
      ],
      "execution_count": 16,
      "outputs": [
        {
          "output_type": "stream",
          "text": [
            "(1800, 25768) (200, 25768)\n"
          ],
          "name": "stdout"
        }
      ]
    },
    {
      "cell_type": "code",
      "metadata": {
        "id": "toJ36rZLzw2v",
        "outputId": "9eed23ba-d798-454e-f237-686073cc944e",
        "colab": {
          "base_uri": "https://localhost:8080/",
          "height": 136
        }
      },
      "source": [
        "Xtrain"
      ],
      "execution_count": 17,
      "outputs": [
        {
          "output_type": "execute_result",
          "data": {
            "text/plain": [
              "array([[0., 1., 1., ..., 0., 0., 0.],\n",
              "       [0., 0., 0., ..., 0., 0., 0.],\n",
              "       [0., 1., 1., ..., 0., 0., 0.],\n",
              "       ...,\n",
              "       [0., 1., 1., ..., 0., 0., 0.],\n",
              "       [0., 1., 1., ..., 0., 0., 0.],\n",
              "       [0., 0., 1., ..., 0., 0., 0.]])"
            ]
          },
          "metadata": {
            "tags": []
          },
          "execution_count": 17
        }
      ]
    },
    {
      "cell_type": "code",
      "metadata": {
        "id": "VStvAnJM0Ou8"
      },
      "source": [
        "from keras.models import Sequential\n",
        "from keras.layers import Dense"
      ],
      "execution_count": 18,
      "outputs": []
    },
    {
      "cell_type": "code",
      "metadata": {
        "id": "YiJPfDkj0VFH"
      },
      "source": [
        "n_words = Xtest.shape[1]\n",
        "# define the model\n",
        "def define_model(n_words):\n",
        "# define network\n",
        "  model = Sequential()\n",
        "  model.add(Dense(64, input_shape=(n_words,), activation='relu'))\n",
        "  # model.add(Dense(128,activation='relu'))\n",
        "  model.add(Dense(1, activation='sigmoid'))\n",
        "# compile network\n",
        "  model.compile(loss='binary_crossentropy', optimizer='adam', metrics=['accuracy'])\n",
        "# summarize defined model\n",
        "  # model.summary()\n",
        "  # plot_model(model, to_file='model.png', show_shapes=True)\n",
        "  return model"
      ],
      "execution_count": 24,
      "outputs": []
    },
    {
      "cell_type": "code",
      "metadata": {
        "id": "KeOAs-0p0bu3",
        "outputId": "b49739ee-974f-4314-a3c0-137382e2934e",
        "colab": {
          "base_uri": "https://localhost:8080/",
          "height": 221
        }
      },
      "source": [
        "model=define_model(n_words)"
      ],
      "execution_count": 20,
      "outputs": [
        {
          "output_type": "stream",
          "text": [
            "Model: \"sequential\"\n",
            "_________________________________________________________________\n",
            "Layer (type)                 Output Shape              Param #   \n",
            "=================================================================\n",
            "dense (Dense)                (None, 64)                1649216   \n",
            "_________________________________________________________________\n",
            "dense_1 (Dense)              (None, 1)                 65        \n",
            "=================================================================\n",
            "Total params: 1,649,281\n",
            "Trainable params: 1,649,281\n",
            "Non-trainable params: 0\n",
            "_________________________________________________________________\n"
          ],
          "name": "stdout"
        }
      ]
    },
    {
      "cell_type": "code",
      "metadata": {
        "id": "XxKODb7m1jMf"
      },
      "source": [
        "import numpy as np\n",
        "Xtrain=np.array(Xtrain)\n",
        "ytrain=np.array(ytrain)\n",
        "ytest=np.array(ytest)\n",
        "Xtest=np.array(Xtest)"
      ],
      "execution_count": 21,
      "outputs": []
    },
    {
      "cell_type": "code",
      "metadata": {
        "id": "nQIlkP9o0hZ4",
        "outputId": "963a7206-8b39-4ac1-a450-15c106eb663c",
        "colab": {
          "base_uri": "https://localhost:8080/",
          "height": 374
        }
      },
      "source": [
        "model.fit(Xtrain,ytrain,epochs=10,validation_split=0.2)"
      ],
      "execution_count": 22,
      "outputs": [
        {
          "output_type": "stream",
          "text": [
            "Epoch 1/10\n",
            "45/45 [==============================] - 1s 21ms/step - loss: 0.5145 - accuracy: 0.7410 - val_loss: 0.5628 - val_accuracy: 0.7056\n",
            "Epoch 2/10\n",
            "45/45 [==============================] - 1s 14ms/step - loss: 0.0824 - accuracy: 0.9931 - val_loss: 0.7778 - val_accuracy: 0.6361\n",
            "Epoch 3/10\n",
            "45/45 [==============================] - 1s 14ms/step - loss: 0.0161 - accuracy: 1.0000 - val_loss: 0.5479 - val_accuracy: 0.7472\n",
            "Epoch 4/10\n",
            "45/45 [==============================] - 1s 15ms/step - loss: 0.0070 - accuracy: 1.0000 - val_loss: 0.6811 - val_accuracy: 0.7111\n",
            "Epoch 5/10\n",
            "45/45 [==============================] - 1s 15ms/step - loss: 0.0038 - accuracy: 1.0000 - val_loss: 0.7029 - val_accuracy: 0.7111\n",
            "Epoch 6/10\n",
            "45/45 [==============================] - 1s 14ms/step - loss: 0.0022 - accuracy: 1.0000 - val_loss: 0.7150 - val_accuracy: 0.7139\n",
            "Epoch 7/10\n",
            "45/45 [==============================] - 1s 14ms/step - loss: 0.0014 - accuracy: 1.0000 - val_loss: 0.7500 - val_accuracy: 0.7111\n",
            "Epoch 8/10\n",
            "45/45 [==============================] - 1s 14ms/step - loss: 0.0010 - accuracy: 1.0000 - val_loss: 0.7956 - val_accuracy: 0.7000\n",
            "Epoch 9/10\n",
            "45/45 [==============================] - 1s 14ms/step - loss: 7.2294e-04 - accuracy: 1.0000 - val_loss: 0.8244 - val_accuracy: 0.7056\n",
            "Epoch 10/10\n",
            "45/45 [==============================] - 1s 14ms/step - loss: 5.2164e-04 - accuracy: 1.0000 - val_loss: 0.8667 - val_accuracy: 0.6972\n"
          ],
          "name": "stdout"
        },
        {
          "output_type": "execute_result",
          "data": {
            "text/plain": [
              "<tensorflow.python.keras.callbacks.History at 0x7f80d0ad6940>"
            ]
          },
          "metadata": {
            "tags": []
          },
          "execution_count": 22
        }
      ]
    },
    {
      "cell_type": "code",
      "metadata": {
        "id": "X2SmyV6u1V4_",
        "outputId": "353d8d5a-88ae-469d-c2ea-03f8c875a801",
        "colab": {
          "base_uri": "https://localhost:8080/",
          "height": 51
        }
      },
      "source": [
        "model.evaluate(Xtest,ytest)"
      ],
      "execution_count": 23,
      "outputs": [
        {
          "output_type": "stream",
          "text": [
            "7/7 [==============================] - 0s 4ms/step - loss: 0.3457 - accuracy: 0.8700\n"
          ],
          "name": "stdout"
        },
        {
          "output_type": "execute_result",
          "data": {
            "text/plain": [
              "[0.34567201137542725, 0.8700000047683716]"
            ]
          },
          "metadata": {
            "tags": []
          },
          "execution_count": 23
        }
      ]
    },
    {
      "cell_type": "code",
      "metadata": {
        "id": "Z7tafTAP2D7X"
      },
      "source": [
        "def evaluate_mode(Xtrain, ytrain, Xtest, ytest):\n",
        "  scores = list()\n",
        "  n_repeats = 10\n",
        "  n_words = Xtest.shape[1]\n",
        "  for i in range(n_repeats):\n",
        "    model=define_model(n_words)\n",
        "    model.fit(Xtrain, ytrain, epochs=10, verbose=0)\n",
        "    loss, acc = model.evaluate(Xtest, ytest, verbose=0)\n",
        "    scores.append(acc)\n",
        "    print('%d accuracy: %s' % ((i+1), acc))\n",
        "  return scores"
      ],
      "execution_count": 25,
      "outputs": []
    },
    {
      "cell_type": "code",
      "metadata": {
        "id": "2ZQDnlqH8P95",
        "outputId": "db8b18a8-1c30-41ad-c00c-a683b7853a01",
        "colab": {
          "base_uri": "https://localhost:8080/",
          "height": 357
        }
      },
      "source": [
        "evaluate_mode(Xtrain,ytrain,Xtest,ytest)"
      ],
      "execution_count": 26,
      "outputs": [
        {
          "output_type": "stream",
          "text": [
            "1 accuracy: 0.9200000166893005\n",
            "2 accuracy: 0.9049999713897705\n",
            "3 accuracy: 0.9350000023841858\n",
            "4 accuracy: 0.9350000023841858\n",
            "5 accuracy: 0.925000011920929\n",
            "6 accuracy: 0.9449999928474426\n",
            "7 accuracy: 0.9300000071525574\n",
            "8 accuracy: 0.925000011920929\n",
            "9 accuracy: 0.9300000071525574\n",
            "10 accuracy: 0.9200000166893005\n"
          ],
          "name": "stdout"
        },
        {
          "output_type": "execute_result",
          "data": {
            "text/plain": [
              "[0.9200000166893005,\n",
              " 0.9049999713897705,\n",
              " 0.9350000023841858,\n",
              " 0.9350000023841858,\n",
              " 0.925000011920929,\n",
              " 0.9449999928474426,\n",
              " 0.9300000071525574,\n",
              " 0.925000011920929,\n",
              " 0.9300000071525574,\n",
              " 0.9200000166893005]"
            ]
          },
          "metadata": {
            "tags": []
          },
          "execution_count": 26
        }
      ]
    },
    {
      "cell_type": "code",
      "metadata": {
        "id": "Sw2ZVKL-8aW0"
      },
      "source": [
        "def prepare_data(train_docs, test_docs, mode):\n",
        "# create the tokenizer\n",
        "  tokenizer = Tokenizer()\n",
        "# fit the tokenizer on the documents\n",
        "  tokenizer.fit_on_texts(train_docs)\n",
        "# encode training data set\n",
        "  Xtrain = tokenizer.texts_to_matrix(train_docs, mode=mode)\n",
        "# encode training data set\n",
        "  Xtest = tokenizer.texts_to_matrix(test_docs, mode=mode)\n",
        "  return Xtrain, Xtest"
      ],
      "execution_count": 27,
      "outputs": []
    },
    {
      "cell_type": "code",
      "metadata": {
        "id": "BRXgDBcm9pzu"
      },
      "source": [
        "from pandas import DataFrame\n",
        "from matplotlib import pyplot"
      ],
      "execution_count": 28,
      "outputs": []
    },
    {
      "cell_type": "code",
      "metadata": {
        "id": "WX-0Ri189sMs",
        "outputId": "a8e329ea-da1d-4e70-98e8-36096b2b5fae",
        "colab": {
          "base_uri": "https://localhost:8080/",
          "height": 918
        }
      },
      "source": [
        "# run experiment\n",
        "modes = ['binary', 'count', 'tfidf', 'freq']\n",
        "results = DataFrame()\n",
        "for mode in modes:\n",
        "  print(mode)\n",
        "# prepare data for mode\n",
        "  Xtrain, Xtest = prepare_data(train_docs, test_docs, mode)\n",
        "# evaluate model on data for mode\n",
        "  results[mode] = evaluate_mode(Xtrain, ytrain, Xtest, ytest)\n",
        "# summarize results\n",
        "print(results.describe())\n"
      ],
      "execution_count": 29,
      "outputs": [
        {
          "output_type": "stream",
          "text": [
            "binary\n",
            "1 accuracy: 0.9300000071525574\n",
            "2 accuracy: 0.9200000166893005\n",
            "3 accuracy: 0.9300000071525574\n",
            "4 accuracy: 0.9350000023841858\n",
            "5 accuracy: 0.9350000023841858\n",
            "6 accuracy: 0.925000011920929\n",
            "7 accuracy: 0.9150000214576721\n",
            "8 accuracy: 0.9300000071525574\n",
            "9 accuracy: 0.925000011920929\n",
            "10 accuracy: 0.9300000071525574\n",
            "count\n",
            "1 accuracy: 0.8999999761581421\n",
            "2 accuracy: 0.8949999809265137\n",
            "3 accuracy: 0.8999999761581421\n",
            "4 accuracy: 0.8949999809265137\n",
            "5 accuracy: 0.8999999761581421\n",
            "6 accuracy: 0.9100000262260437\n",
            "7 accuracy: 0.9100000262260437\n",
            "8 accuracy: 0.9049999713897705\n",
            "9 accuracy: 0.8999999761581421\n",
            "10 accuracy: 0.8899999856948853\n",
            "tfidf\n",
            "1 accuracy: 0.8600000143051147\n",
            "2 accuracy: 0.8600000143051147\n",
            "3 accuracy: 0.875\n",
            "4 accuracy: 0.8650000095367432\n",
            "5 accuracy: 0.8650000095367432\n",
            "6 accuracy: 0.8799999952316284\n",
            "7 accuracy: 0.8650000095367432\n",
            "8 accuracy: 0.8949999809265137\n",
            "9 accuracy: 0.8799999952316284\n",
            "10 accuracy: 0.8899999856948853\n",
            "freq\n",
            "1 accuracy: 0.8700000047683716\n",
            "2 accuracy: 0.8799999952316284\n",
            "3 accuracy: 0.8399999737739563\n",
            "4 accuracy: 0.8700000047683716\n",
            "5 accuracy: 0.8799999952316284\n",
            "6 accuracy: 0.8650000095367432\n",
            "7 accuracy: 0.875\n",
            "8 accuracy: 0.8700000047683716\n",
            "9 accuracy: 0.8799999952316284\n",
            "10 accuracy: 0.8700000047683716\n",
            "          binary      count      tfidf       freq\n",
            "count  10.000000  10.000000  10.000000  10.000000\n",
            "mean    0.927500   0.900500   0.873500   0.870000\n",
            "std     0.006346   0.006433   0.012483   0.011785\n",
            "min     0.915000   0.890000   0.860000   0.840000\n",
            "25%     0.925000   0.896250   0.865000   0.870000\n",
            "50%     0.930000   0.900000   0.870000   0.870000\n",
            "75%     0.930000   0.903750   0.880000   0.878750\n",
            "max     0.935000   0.910000   0.895000   0.880000\n"
          ],
          "name": "stdout"
        }
      ]
    },
    {
      "cell_type": "code",
      "metadata": {
        "id": "b6dQA7zB9vUI",
        "outputId": "a742c5b5-f58a-44d0-e283-b252dd750a00",
        "colab": {
          "base_uri": "https://localhost:8080/",
          "height": 265
        }
      },
      "source": [
        "results.boxplot()\n",
        "pyplot.show()"
      ],
      "execution_count": 30,
      "outputs": [
        {
          "output_type": "display_data",
          "data": {
            "image/png": "[encoded data removed]",
            "text/plain": [
              "<Figure size 432x288 with 1 Axes>"
            ]
          },
          "metadata": {
            "tags": [],
            "needs_background": "light"
          }
        }
      ]
    },
    {
      "cell_type": "code",
      "metadata": {
        "id": "d-ksHYiH_Pxb"
      },
      "source": [
        "def predict_sentiment(review, vocab, tokenizer, model):\n",
        "# clean\n",
        "  tokens = clean_doc(review)\n",
        "# filter by vocab\n",
        "  tokens = [w for w in tokens if w in vocab]\n",
        "# convert to line\n",
        "  line = ' '.join(tokens)\n",
        "# encode\n",
        "  encoded = tokenizer.texts_to_matrix([line], mode='binary')\n",
        "# predict sentiment\n",
        "  yhat = model.predict(encoded, verbose=0)\n",
        "# retrieve predicted percentage and label\n",
        "  percent_pos = yhat[0,0]\n",
        "  print(percent_pos)\n",
        "  if round(percent_pos) == 0:\n",
        "    return (1-percent_pos), 'NEGATIVE'\n",
        "  return percent_pos, 'POSITIVE'"
      ],
      "execution_count": 31,
      "outputs": []
    },
    {
      "cell_type": "code",
      "metadata": {
        "id": "CfAO8PAS_YME",
        "outputId": "d9967820-8c57-4ec2-cc63-63b2288a290b",
        "colab": {
          "base_uri": "https://localhost:8080/",
          "height": 51
        }
      },
      "source": [
        "review=\"i had great exceptation, but i found it not upto the mark\"\n",
        "predict_sentiment(review, vocab, tokenizer, model)"
      ],
      "execution_count": 32,
      "outputs": [
        {
          "output_type": "stream",
          "text": [
            "0.54321784\n"
          ],
          "name": "stdout"
        },
        {
          "output_type": "execute_result",
          "data": {
            "text/plain": [
              "(0.54321784, 'POSITIVE')"
            ]
          },
          "metadata": {
            "tags": []
          },
          "execution_count": 32
        }
      ]
    },
    {
      "cell_type": "code",
      "metadata": {
        "id": "90Vkln7P_q3r"
      },
      "source": [
        ""
      ],
      "execution_count": null,
      "outputs": []
    }
  ]
}