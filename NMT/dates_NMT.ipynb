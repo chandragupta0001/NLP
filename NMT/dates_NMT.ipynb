{
  "nbformat": 4,
  "nbformat_minor": 0,
  "metadata": {
    "colab": {
      "name": "dates_NMT.ipynb",
      "provenance": [],
      "authorship_tag": "ABX9TyPj0u/HiF5LlnOERGKH6HqU",
      "include_colab_link": true
    },
    "kernelspec": {
      "name": "python3",
      "display_name": "Python 3"
    }
  },
  "cells": [
    {
      "cell_type": "markdown",
      "metadata": {
        "id": "view-in-github",
        "colab_type": "text"
      },
      "source": [
        "<a href=\"https://colab.research.google.com/github/chandragupta0001/NLP/blob/master/NMT/dates_NMT.ipynb\" target=\"_parent\"><img src=\"https://colab.research.google.com/assets/colab-badge.svg\" alt=\"Open In Colab\"/></a>"
      ]
    },
    {
      "cell_type": "code",
      "metadata": {
        "colab": {
          "base_uri": "https://localhost:8080/"
        },
        "id": "LlLaF4cDjo09",
        "outputId": "6cb38775-1d67-41bf-a6c1-d531f71b1d66"
      },
      "source": [
        "import numpy as np\n",
        "!pip install Faker\n",
        "from faker import Faker\n",
        "import random\n",
        "from tqdm import tqdm\n",
        "from babel.dates import format_date\n",
        "from keras.utils import to_categorical\n",
        "import keras.backend as K\n",
        "import matplotlib.pyplot as plt\n",
        "\n",
        "fake = Faker()\n",
        "# fake.seed(12345)\n",
        "random.seed(12345)\n",
        "\n",
        "FORMATS = ['short',\n",
        "           'medium',\n",
        "           'long',\n",
        "           'full',\n",
        "           'full',\n",
        "           'full',\n",
        "           'full',\n",
        "           'full',\n",
        "           'full',\n",
        "           'full',\n",
        "           'full',\n",
        "           'full',\n",
        "           'full',\n",
        "           'd MMM YYY', \n",
        "           'd MMMM YYY',\n",
        "           'dd MMM YYY',\n",
        "           'd MMM, YYY',\n",
        "           'd MMMM, YYY',\n",
        "           'dd, MMM YYY',\n",
        "           'd MM YY',\n",
        "           'd MMMM YYY',\n",
        "           'MMMM d YYY',\n",
        "           'MMMM d, YYY',\n",
        "           'dd.MM.YY']\n",
        "\n",
        "\n",
        "def load_date():\n",
        "    \"\"\"\n",
        "        Loads some fake dates \n",
        "        :returns: tuple containing human readable string, machine readable string, and date object\n",
        "    \"\"\"\n",
        "    dt = fake.date_object()\n",
        "\n",
        "    try:\n",
        "        human_readable = format_date(dt, format=random.choice(FORMATS),  locale='en_US') # locale=random.choice(LOCALES))\n",
        "        human_readable = human_readable.lower()\n",
        "        human_readable = human_readable.replace(',','')\n",
        "        machine_readable = dt.isoformat()\n",
        "        \n",
        "    except AttributeError as e:\n",
        "        return None, None, None\n",
        "\n",
        "    return human_readable, machine_readable, dt\n",
        "\n",
        "def load_dataset(m):\n",
        "    \"\"\"\n",
        "        Loads a dataset with m examples and vocabularies\n",
        "        :m: the number of examples to generate\n",
        "    \"\"\"\n",
        "    \n",
        "    human_vocab = set()\n",
        "    machine_vocab = set()\n",
        "    dataset = []\n",
        "    Tx = 30\n",
        "    \n",
        "\n",
        "    for i in tqdm(range(m)):\n",
        "        h, m, _ = load_date()\n",
        "        if h is not None:\n",
        "            dataset.append((h, m))\n",
        "            human_vocab.update(tuple(h))\n",
        "            machine_vocab.update(tuple(m))\n",
        "    \n",
        "    human = dict(zip(sorted(human_vocab) + ['<unk>', '<pad>'], \n",
        "                     list(range(len(human_vocab) + 2))))\n",
        "    inv_machine = dict(enumerate(sorted(machine_vocab)))\n",
        "    machine = {v:k for k,v in inv_machine.items()}\n",
        "    \n",
        " \n",
        "    return dataset, human, machine, inv_machine"
      ],
      "execution_count": 1,
      "outputs": [
        {
          "output_type": "stream",
          "text": [
            "Collecting Faker\n",
            "\u001b[?25l  Downloading https://files.pythonhosted.org/packages/51/50/fc971c0d1bbbd6442adf390bd5d354138d187f399ca5d5e0f7cad99314ea/Faker-4.17.1-py3-none-any.whl (1.1MB)\n",
            "\u001b[K     |████████████████████████████████| 1.1MB 5.9MB/s \n",
            "\u001b[?25hRequirement already satisfied: python-dateutil>=2.4 in /usr/local/lib/python3.6/dist-packages (from Faker) (2.8.1)\n",
            "Requirement already satisfied: text-unidecode==1.3 in /usr/local/lib/python3.6/dist-packages (from Faker) (1.3)\n",
            "Requirement already satisfied: six>=1.5 in /usr/local/lib/python3.6/dist-packages (from python-dateutil>=2.4->Faker) (1.15.0)\n",
            "Installing collected packages: Faker\n",
            "Successfully installed Faker-4.17.1\n"
          ],
          "name": "stdout"
        }
      ]
    },
    {
      "cell_type": "code",
      "metadata": {
        "colab": {
          "base_uri": "https://localhost:8080/"
        },
        "id": "QJMDOeHoj5hd",
        "outputId": "85ea3227-fb02-4f02-9f78-b0f944f88d2a"
      },
      "source": [
        "m = 10000\n",
        "dataset, human_vocab, machine_vocab, inv_machine_vocab = load_dataset(m)"
      ],
      "execution_count": 2,
      "outputs": [
        {
          "output_type": "stream",
          "text": [
            "100%|██████████| 10000/10000 [00:00<00:00, 20878.24it/s]\n"
          ],
          "name": "stderr"
        }
      ]
    },
    {
      "cell_type": "code",
      "metadata": {
        "colab": {
          "base_uri": "https://localhost:8080/"
        },
        "id": "1gGS3GmNkNJy",
        "outputId": "e249f16f-dbcf-48cc-c667-fb33319ad040"
      },
      "source": [
        "dataset[:5]"
      ],
      "execution_count": 3,
      "outputs": [
        {
          "output_type": "execute_result",
          "data": {
            "text/plain": [
              "[('13 sep 1990', '1990-09-13'),\n",
              " ('30.07.77', '1977-07-30'),\n",
              " ('3/23/12', '2012-03-23'),\n",
              " ('thursday june 7 2018', '2018-06-07'),\n",
              " ('tuesday august 13 1985', '1985-08-13')]"
            ]
          },
          "metadata": {
            "tags": []
          },
          "execution_count": 3
        }
      ]
    },
    {
      "cell_type": "code",
      "metadata": {
        "id": "Vq_u3gOekP8d"
      },
      "source": [
        "X,Y=zip(*dataset)"
      ],
      "execution_count": 5,
      "outputs": []
    },
    {
      "cell_type": "code",
      "metadata": {
        "colab": {
          "base_uri": "https://localhost:8080/",
          "height": 35
        },
        "id": "PG4k3bxXo_r1",
        "outputId": "c5c7e747-6b6f-44ea-aa35-bd660d5d3191"
      },
      "source": [
        "X[i]"
      ],
      "execution_count": 24,
      "outputs": [
        {
          "output_type": "execute_result",
          "data": {
            "application/vnd.google.colaboratory.intrinsic+json": {
              "type": "string"
            },
            "text/plain": [
              "'tuesday august 13 1985'"
            ]
          },
          "metadata": {
            "tags": []
          },
          "execution_count": 24
        }
      ]
    },
    {
      "cell_type": "code",
      "metadata": {
        "id": "6UXPTgsWkSkP"
      },
      "source": [
        "import tensorflow as tf\n",
        "from tensorflow import keras"
      ],
      "execution_count": 6,
      "outputs": []
    },
    {
      "cell_type": "code",
      "metadata": {
        "id": "lnXJnSK5kbPa"
      },
      "source": [
        "token_human=tf.keras.preprocessing.text.Tokenizer(char_level=True, oov_token=2\n",
        ")\n",
        "token_machine=tf.keras.preprocessing.text.Tokenizer(num_words=11,char_level=True, oov_token=0\n",
        ")\n",
        "token_human.fit_on_texts(X)\n",
        "token_machine.fit_on_texts(Y)"
      ],
      "execution_count": 161,
      "outputs": []
    },
    {
      "cell_type": "code",
      "metadata": {
        "id": "87Qv7U4akhSt"
      },
      "source": [
        "def encode_X(X,human_vocab,token_human,max_len=30):\n",
        "  human_dates=np.zeros((len(X),max_len,len(human_vocab)))\n",
        "  for i in range(len(X)):\n",
        "    a=token_human.texts_to_matrix(X[i])\n",
        "    human_dates[i]=np.pad(a,[(0,30-a.shape[0]),(0,0)], mode='constant', constant_values=0)\n",
        "\n",
        "  return  human_dates\n",
        "\n",
        "\n",
        "def encode_y(y,machine_vocab,token_machine,max_len=10):\n",
        "  machine_dates=np.empty((len(y),max_len,len(machine_vocab)))\n",
        "  for i in range(len(y)):\n",
        "       machine_dates[i]=token_machine.texts_to_matrix(y[i])\n",
        "  return machine_dates\n",
        "\n",
        "  \n"
      ],
      "execution_count": 44,
      "outputs": []
    },
    {
      "cell_type": "code",
      "metadata": {
        "id": "cYBvC4Agl3lC"
      },
      "source": [
        "X_train=encode_X(X,human_vocab,token_human)"
      ],
      "execution_count": 45,
      "outputs": []
    },
    {
      "cell_type": "code",
      "metadata": {
        "id": "9HOW6opwl7Ox"
      },
      "source": [
        "y_train=encode_y(Y,machine_vocab,token_machine)"
      ],
      "execution_count": 46,
      "outputs": []
    },
    {
      "cell_type": "code",
      "metadata": {
        "colab": {
          "base_uri": "https://localhost:8080/"
        },
        "id": "zCnok7NsqmPn",
        "outputId": "460ed12c-8dd9-475d-c230-ad290393c641"
      },
      "source": [
        "print(X_train.shape,y_train.shape)"
      ],
      "execution_count": 47,
      "outputs": [
        {
          "output_type": "stream",
          "text": [
            "(10000, 30, 37) (10000, 10, 11)\n"
          ],
          "name": "stdout"
        }
      ]
    },
    {
      "cell_type": "code",
      "metadata": {
        "id": "7bG_pdtRquAI"
      },
      "source": [
        "encoder = keras.models.Sequential([\n",
        "\n",
        "  keras.layers.Input(shape=(30,37)),\n",
        "    keras.layers.LSTM(128)\n",
        "])\n"
      ],
      "execution_count": 48,
      "outputs": []
    },
    {
      "cell_type": "code",
      "metadata": {
        "id": "FKvT9bI9rzgf"
      },
      "source": [
        "decoder = keras.models.Sequential([\n",
        "    keras.layers.LSTM(128, return_sequences=True),\n",
        "    keras.layers.Dense(11, activation=\"softmax\")\n",
        "])"
      ],
      "execution_count": 49,
      "outputs": []
    },
    {
      "cell_type": "code",
      "metadata": {
        "id": "XNJwaP9qr2ln"
      },
      "source": [
        "model = keras.models.Sequential([\n",
        "    encoder,\n",
        "    keras.layers.RepeatVector(10),\n",
        "    decoder\n",
        "])"
      ],
      "execution_count": 50,
      "outputs": []
    },
    {
      "cell_type": "code",
      "metadata": {
        "id": "EZkOMu4Gr46s"
      },
      "source": [
        "optimizer = keras.optimizers.Nadam()\n",
        "model.compile(loss=\"categorical_crossentropy\", optimizer=optimizer,\n",
        "              metrics=[\"accuracy\"])"
      ],
      "execution_count": 51,
      "outputs": []
    },
    {
      "cell_type": "code",
      "metadata": {
        "colab": {
          "base_uri": "https://localhost:8080/"
        },
        "id": "hMO7Ot8Nr7Qe",
        "outputId": "ba8c158c-061b-410e-8960-5fac130ccadd"
      },
      "source": [
        "history=model.fit(X_train, y_train, epochs=25,validation_split=0.2)"
      ],
      "execution_count": 53,
      "outputs": [
        {
          "output_type": "stream",
          "text": [
            "Epoch 1/25\n",
            "250/250 [==============================] - 12s 50ms/step - loss: 1.5088 - accuracy: 0.4223 - val_loss: 1.0634 - val_accuracy: 0.5735\n",
            "Epoch 2/25\n",
            "250/250 [==============================] - 11s 45ms/step - loss: 1.0051 - accuracy: 0.5902 - val_loss: 0.9071 - val_accuracy: 0.6342\n",
            "Epoch 3/25\n",
            "250/250 [==============================] - 11s 43ms/step - loss: 0.8730 - accuracy: 0.6471 - val_loss: 0.8274 - val_accuracy: 0.6665\n",
            "Epoch 4/25\n",
            "250/250 [==============================] - 11s 44ms/step - loss: 0.7744 - accuracy: 0.6943 - val_loss: 0.7110 - val_accuracy: 0.7289\n",
            "Epoch 5/25\n",
            "250/250 [==============================] - 11s 44ms/step - loss: 0.6368 - accuracy: 0.7567 - val_loss: 0.5719 - val_accuracy: 0.7809\n",
            "Epoch 6/25\n",
            "250/250 [==============================] - 11s 44ms/step - loss: 0.4937 - accuracy: 0.8083 - val_loss: 0.4236 - val_accuracy: 0.8393\n",
            "Epoch 7/25\n",
            "250/250 [==============================] - 11s 44ms/step - loss: 0.3632 - accuracy: 0.8625 - val_loss: 0.2979 - val_accuracy: 0.8940\n",
            "Epoch 8/25\n",
            "250/250 [==============================] - 11s 45ms/step - loss: 0.2506 - accuracy: 0.9100 - val_loss: 0.2069 - val_accuracy: 0.9273\n",
            "Epoch 9/25\n",
            "250/250 [==============================] - 11s 45ms/step - loss: 0.1742 - accuracy: 0.9377 - val_loss: 0.1549 - val_accuracy: 0.9431\n",
            "Epoch 10/25\n",
            "250/250 [==============================] - 11s 44ms/step - loss: 0.1317 - accuracy: 0.9509 - val_loss: 0.1263 - val_accuracy: 0.9512\n",
            "Epoch 11/25\n",
            "250/250 [==============================] - 11s 44ms/step - loss: 0.1020 - accuracy: 0.9631 - val_loss: 0.0991 - val_accuracy: 0.9632\n",
            "Epoch 12/25\n",
            "250/250 [==============================] - 12s 47ms/step - loss: 0.2485 - accuracy: 0.9234 - val_loss: 0.0903 - val_accuracy: 0.9696\n",
            "Epoch 13/25\n",
            "250/250 [==============================] - 11s 45ms/step - loss: 0.0691 - accuracy: 0.9785 - val_loss: 0.0642 - val_accuracy: 0.9809\n",
            "Epoch 14/25\n",
            "250/250 [==============================] - 11s 45ms/step - loss: 0.0492 - accuracy: 0.9857 - val_loss: 0.0527 - val_accuracy: 0.9840\n",
            "Epoch 15/25\n",
            "250/250 [==============================] - 11s 44ms/step - loss: 0.0394 - accuracy: 0.9895 - val_loss: 0.0381 - val_accuracy: 0.9891\n",
            "Epoch 16/25\n",
            "250/250 [==============================] - 11s 45ms/step - loss: 0.0278 - accuracy: 0.9925 - val_loss: 0.0355 - val_accuracy: 0.9902\n",
            "Epoch 17/25\n",
            "250/250 [==============================] - 11s 43ms/step - loss: 0.0221 - accuracy: 0.9943 - val_loss: 0.0254 - val_accuracy: 0.9927\n",
            "Epoch 18/25\n",
            "250/250 [==============================] - 11s 44ms/step - loss: 0.0170 - accuracy: 0.9958 - val_loss: 0.0220 - val_accuracy: 0.9942\n",
            "Epoch 19/25\n",
            "250/250 [==============================] - 11s 44ms/step - loss: 0.0147 - accuracy: 0.9963 - val_loss: 0.0242 - val_accuracy: 0.9923\n",
            "Epoch 20/25\n",
            "250/250 [==============================] - 11s 44ms/step - loss: 0.0148 - accuracy: 0.9964 - val_loss: 0.0202 - val_accuracy: 0.9940\n",
            "Epoch 21/25\n",
            "250/250 [==============================] - 11s 45ms/step - loss: 0.0122 - accuracy: 0.9970 - val_loss: 0.0161 - val_accuracy: 0.9956\n",
            "Epoch 22/25\n",
            "250/250 [==============================] - 11s 44ms/step - loss: 0.0079 - accuracy: 0.9985 - val_loss: 0.0175 - val_accuracy: 0.9952\n",
            "Epoch 23/25\n",
            "250/250 [==============================] - 11s 45ms/step - loss: 0.0106 - accuracy: 0.9976 - val_loss: 0.0131 - val_accuracy: 0.9966\n",
            "Epoch 24/25\n",
            "250/250 [==============================] - 11s 44ms/step - loss: 0.0075 - accuracy: 0.9982 - val_loss: 0.0189 - val_accuracy: 0.9950\n",
            "Epoch 25/25\n",
            "250/250 [==============================] - 11s 45ms/step - loss: 0.0122 - accuracy: 0.9969 - val_loss: 0.0126 - val_accuracy: 0.9963\n"
          ],
          "name": "stdout"
        }
      ]
    },
    {
      "cell_type": "code",
      "metadata": {
        "id": "5FJJB1O9r-bx"
      },
      "source": [
        ""
      ],
      "execution_count": 151,
      "outputs": []
    },
    {
      "cell_type": "code",
      "metadata": {
        "id": "K82YnHsDzzl7"
      },
      "source": [
        "reverse_word_map = dict(map(reversed, token_machine.word_index.items()))\n",
        "\n",
        "# Function takes a tokenized sentence and returns the words\n",
        "def sequence_to_text(list_of_indices):\n",
        "    # Looking up words in dictionary\n",
        "    words = [reverse_word_map.get(letter) for letter in list_of_indices]\n",
        "    return(words)"
      ],
      "execution_count": 141,
      "outputs": []
    },
    {
      "cell_type": "code",
      "metadata": {
        "colab": {
          "base_uri": "https://localhost:8080/"
        },
        "id": "0lGpA5oJ6cad",
        "outputId": "5172fd69-0fb3-47ee-cdec-6ca4e4f73064"
      },
      "source": [
        "date=encode_X([\"30 march 1995\"],human_vocab,token_human)\n",
        "my_texts = list(map(sequence_to_text, model.predict_classes(date).tolist()))\n",
        "print(my_texts)"
      ],
      "execution_count": 157,
      "outputs": [
        {
          "output_type": "stream",
          "text": [
            "[['1', '9', '9', 0, '-', '0', '3', '-', '3', '0']]\n"
          ],
          "name": "stdout"
        }
      ]
    },
    {
      "cell_type": "code",
      "metadata": {
        "colab": {
          "base_uri": "https://localhost:8080/"
        },
        "id": "XtsGxcWg6mq6",
        "outputId": "f6b6e0e4-12db-4a7d-ddc5-591670c75b80"
      },
      "source": [
        "model.predict_classes(date)"
      ],
      "execution_count": 159,
      "outputs": [
        {
          "output_type": "execute_result",
          "data": {
            "text/plain": [
              "array([[4, 6, 6, 1, 2, 3, 9, 2, 9, 3]])"
            ]
          },
          "metadata": {
            "tags": []
          },
          "execution_count": 159
        }
      ]
    },
    {
      "cell_type": "code",
      "metadata": {
        "colab": {
          "base_uri": "https://localhost:8080/"
        },
        "id": "Vr02hNgj8PHz",
        "outputId": "3fe4ade6-7e79-411d-b92f-61aea2918bb2"
      },
      "source": [
        "print(token_machine.word_index.items())"
      ],
      "execution_count": 163,
      "outputs": [
        {
          "output_type": "stream",
          "text": [
            "dict_items([(0, 1), ('-', 2), ('0', 3), ('1', 4), ('2', 5), ('9', 6), ('8', 7), ('7', 8), ('3', 9), ('4', 10), ('5', 11), ('6', 12)])\n"
          ],
          "name": "stdout"
        }
      ]
    },
    {
      "cell_type": "code",
      "metadata": {
        "colab": {
          "base_uri": "https://localhost:8080/"
        },
        "id": "BDb2gIre6tgw",
        "outputId": "6dad4f9c-ed6a-4ff4-be04-e713519a1819"
      },
      "source": [
        "token_machine.texts_to_matrix([\"1995-06-30\"])\n"
      ],
      "execution_count": 175,
      "outputs": [
        {
          "output_type": "execute_result",
          "data": {
            "text/plain": [
              "array([[0., 1., 1., 1., 1., 0., 1., 0., 0., 1., 0.]])"
            ]
          },
          "metadata": {
            "tags": []
          },
          "execution_count": 175
        }
      ]
    },
    {
      "cell_type": "code",
      "metadata": {
        "colab": {
          "base_uri": "https://localhost:8080/",
          "height": 306
        },
        "id": "5RYhsIym74ip",
        "outputId": "6f446f5b-fdee-45bc-a11a-abc23e394960"
      },
      "source": [
        "token_machine.sequences_to_texts([[4, 6, 6, 1, 2, 3, 9, 2, 9, 3]])"
      ],
      "execution_count": 168,
      "outputs": [
        {
          "output_type": "error",
          "ename": "TypeError",
          "evalue": "ignored",
          "traceback": [
            "\u001b[0;31m---------------------------------------------------------------------------\u001b[0m",
            "\u001b[0;31mTypeError\u001b[0m                                 Traceback (most recent call last)",
            "\u001b[0;32m<ipython-input-168-b0be20c1c6e5>\u001b[0m in \u001b[0;36m<module>\u001b[0;34m()\u001b[0m\n\u001b[0;32m----> 1\u001b[0;31m \u001b[0mtoken_machine\u001b[0m\u001b[0;34m.\u001b[0m\u001b[0msequences_to_texts\u001b[0m\u001b[0;34m(\u001b[0m\u001b[0;34m[\u001b[0m\u001b[0;36m4\u001b[0m\u001b[0;34m,\u001b[0m \u001b[0;36m6\u001b[0m\u001b[0;34m,\u001b[0m \u001b[0;36m6\u001b[0m\u001b[0;34m,\u001b[0m \u001b[0;36m1\u001b[0m\u001b[0;34m,\u001b[0m \u001b[0;36m2\u001b[0m\u001b[0;34m,\u001b[0m \u001b[0;36m3\u001b[0m\u001b[0;34m,\u001b[0m \u001b[0;36m9\u001b[0m\u001b[0;34m,\u001b[0m \u001b[0;36m2\u001b[0m\u001b[0;34m,\u001b[0m \u001b[0;36m9\u001b[0m\u001b[0;34m,\u001b[0m \u001b[0;36m3\u001b[0m\u001b[0;34m]\u001b[0m\u001b[0;34m)\u001b[0m\u001b[0;34m\u001b[0m\u001b[0;34m\u001b[0m\u001b[0m\n\u001b[0m",
            "\u001b[0;32m/usr/local/lib/python3.6/dist-packages/keras_preprocessing/text.py\u001b[0m in \u001b[0;36msequences_to_texts\u001b[0;34m(self, sequences)\u001b[0m\n\u001b[1;32m    336\u001b[0m             \u001b[0mA\u001b[0m \u001b[0mlist\u001b[0m \u001b[0mof\u001b[0m \u001b[0mtexts\u001b[0m \u001b[0;34m(\u001b[0m\u001b[0mstrings\u001b[0m\u001b[0;34m)\u001b[0m\u001b[0;34m\u001b[0m\u001b[0;34m\u001b[0m\u001b[0m\n\u001b[1;32m    337\u001b[0m         \"\"\"\n\u001b[0;32m--> 338\u001b[0;31m         \u001b[0;32mreturn\u001b[0m \u001b[0mlist\u001b[0m\u001b[0;34m(\u001b[0m\u001b[0mself\u001b[0m\u001b[0;34m.\u001b[0m\u001b[0msequences_to_texts_generator\u001b[0m\u001b[0;34m(\u001b[0m\u001b[0msequences\u001b[0m\u001b[0;34m)\u001b[0m\u001b[0;34m)\u001b[0m\u001b[0;34m\u001b[0m\u001b[0;34m\u001b[0m\u001b[0m\n\u001b[0m\u001b[1;32m    339\u001b[0m \u001b[0;34m\u001b[0m\u001b[0m\n\u001b[1;32m    340\u001b[0m     \u001b[0;32mdef\u001b[0m \u001b[0msequences_to_texts_generator\u001b[0m\u001b[0;34m(\u001b[0m\u001b[0mself\u001b[0m\u001b[0;34m,\u001b[0m \u001b[0msequences\u001b[0m\u001b[0;34m)\u001b[0m\u001b[0;34m:\u001b[0m\u001b[0;34m\u001b[0m\u001b[0;34m\u001b[0m\u001b[0m\n",
            "\u001b[0;32m/usr/local/lib/python3.6/dist-packages/keras_preprocessing/text.py\u001b[0m in \u001b[0;36msequences_to_texts_generator\u001b[0;34m(self, sequences)\u001b[0m\n\u001b[1;32m    357\u001b[0m         \u001b[0;32mfor\u001b[0m \u001b[0mseq\u001b[0m \u001b[0;32min\u001b[0m \u001b[0msequences\u001b[0m\u001b[0;34m:\u001b[0m\u001b[0;34m\u001b[0m\u001b[0;34m\u001b[0m\u001b[0m\n\u001b[1;32m    358\u001b[0m             \u001b[0mvect\u001b[0m \u001b[0;34m=\u001b[0m \u001b[0;34m[\u001b[0m\u001b[0;34m]\u001b[0m\u001b[0;34m\u001b[0m\u001b[0;34m\u001b[0m\u001b[0m\n\u001b[0;32m--> 359\u001b[0;31m             \u001b[0;32mfor\u001b[0m \u001b[0mnum\u001b[0m \u001b[0;32min\u001b[0m \u001b[0mseq\u001b[0m\u001b[0;34m:\u001b[0m\u001b[0;34m\u001b[0m\u001b[0;34m\u001b[0m\u001b[0m\n\u001b[0m\u001b[1;32m    360\u001b[0m                 \u001b[0mword\u001b[0m \u001b[0;34m=\u001b[0m \u001b[0mself\u001b[0m\u001b[0;34m.\u001b[0m\u001b[0mindex_word\u001b[0m\u001b[0;34m.\u001b[0m\u001b[0mget\u001b[0m\u001b[0;34m(\u001b[0m\u001b[0mnum\u001b[0m\u001b[0;34m)\u001b[0m\u001b[0;34m\u001b[0m\u001b[0;34m\u001b[0m\u001b[0m\n\u001b[1;32m    361\u001b[0m                 \u001b[0;32mif\u001b[0m \u001b[0mword\u001b[0m \u001b[0;32mis\u001b[0m \u001b[0;32mnot\u001b[0m \u001b[0;32mNone\u001b[0m\u001b[0;34m:\u001b[0m\u001b[0;34m\u001b[0m\u001b[0;34m\u001b[0m\u001b[0m\n",
            "\u001b[0;31mTypeError\u001b[0m: 'int' object is not iterable"
          ]
        }
      ]
    },
    {
      "cell_type": "code",
      "metadata": {
        "colab": {
          "base_uri": "https://localhost:8080/"
        },
        "id": "mgn24bAJ9W9C",
        "outputId": "ad4e33fe-4bf8-4c2d-e3c5-a48060926ea4"
      },
      "source": [
        "y_train[:10]"
      ],
      "execution_count": 173,
      "outputs": [
        {
          "output_type": "execute_result",
          "data": {
            "text/plain": [
              "array([[[0., 0., 0., ..., 0., 0., 0.],\n",
              "        [0., 0., 0., ..., 0., 0., 0.],\n",
              "        [0., 0., 0., ..., 0., 0., 0.],\n",
              "        ...,\n",
              "        [0., 0., 1., ..., 0., 0., 0.],\n",
              "        [0., 0., 0., ..., 0., 0., 0.],\n",
              "        [0., 0., 0., ..., 0., 1., 0.]],\n",
              "\n",
              "       [[0., 0., 0., ..., 0., 0., 0.],\n",
              "        [0., 0., 0., ..., 0., 0., 0.],\n",
              "        [0., 0., 0., ..., 1., 0., 0.],\n",
              "        ...,\n",
              "        [0., 0., 1., ..., 0., 0., 0.],\n",
              "        [0., 0., 0., ..., 0., 1., 0.],\n",
              "        [0., 0., 0., ..., 0., 0., 0.]],\n",
              "\n",
              "       [[0., 0., 0., ..., 0., 0., 0.],\n",
              "        [0., 0., 0., ..., 0., 0., 0.],\n",
              "        [0., 0., 0., ..., 0., 0., 0.],\n",
              "        ...,\n",
              "        [0., 0., 1., ..., 0., 0., 0.],\n",
              "        [0., 0., 0., ..., 0., 0., 0.],\n",
              "        [0., 0., 0., ..., 0., 1., 0.]],\n",
              "\n",
              "       ...,\n",
              "\n",
              "       [[0., 0., 0., ..., 0., 0., 0.],\n",
              "        [0., 0., 0., ..., 0., 0., 0.],\n",
              "        [0., 0., 0., ..., 0., 0., 0.],\n",
              "        ...,\n",
              "        [0., 0., 1., ..., 0., 0., 0.],\n",
              "        [0., 0., 0., ..., 0., 0., 0.],\n",
              "        [0., 0., 0., ..., 0., 0., 0.]],\n",
              "\n",
              "       [[0., 0., 0., ..., 0., 0., 0.],\n",
              "        [0., 0., 0., ..., 0., 0., 0.],\n",
              "        [0., 0., 0., ..., 0., 0., 0.],\n",
              "        ...,\n",
              "        [0., 0., 1., ..., 0., 0., 0.],\n",
              "        [0., 0., 0., ..., 0., 0., 0.],\n",
              "        [0., 0., 0., ..., 0., 0., 0.]],\n",
              "\n",
              "       [[0., 0., 0., ..., 0., 0., 0.],\n",
              "        [0., 0., 0., ..., 0., 0., 0.],\n",
              "        [0., 0., 0., ..., 0., 0., 0.],\n",
              "        ...,\n",
              "        [0., 0., 1., ..., 0., 0., 0.],\n",
              "        [0., 0., 0., ..., 0., 0., 0.],\n",
              "        [0., 0., 0., ..., 0., 0., 1.]]])"
            ]
          },
          "metadata": {
            "tags": []
          },
          "execution_count": 173
        }
      ]
    },
    {
      "cell_type": "code",
      "metadata": {
        "id": "3KuKOlqV-Ull"
      },
      "source": [
        ""
      ],
      "execution_count": null,
      "outputs": []
    }
  ]
}